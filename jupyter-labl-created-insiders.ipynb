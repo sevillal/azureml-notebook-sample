{
 "cells": [
  {
   "cell_type": "code",
   "execution_count": null,
   "id": "c85fc5eb-b0cc-4516-8322-d903144a5b99",
   "metadata": {},
   "outputs": [],
   "source": [
    "print(\"hello world2\")"
   ]
  }
 ],
 "metadata": {
  "kernelspec": {
   "display_name": "Python 3.10 - SDK V2",
   "language": "python",
   "name": "python310-sdkv2"
  },
  "language_info": {
   "codemirror_mode": {
    "name": "ipython",
    "version": 3
   },
   "file_extension": ".py",
   "mimetype": "text/x-python",
   "name": "python",
   "nbconvert_exporter": "python",
   "pygments_lexer": "ipython3",
   "version": "3.10.4"
  }
 },
 "nbformat": 4,
 "nbformat_minor": 5
}
